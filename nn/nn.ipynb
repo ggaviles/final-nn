{
 "cells": [
  {
   "cell_type": "code",
   "execution_count": 1,
   "metadata": {
    "collapsed": true
   },
   "outputs": [],
   "source": [
    "import sys\n",
    "import pathlib\n",
    "import numpy as np"
   ]
  },
  {
   "cell_type": "code",
   "execution_count": 2,
   "outputs": [
    {
     "name": "stdout",
     "output_type": "stream",
     "text": [
      "Requirement already satisfied: scikit-learn in /opt/homebrew/Cellar/jupyterlab/3.4.8_1/libexec/lib/python3.11/site-packages (1.2.2)\r\n",
      "Requirement already satisfied: numpy>=1.17.3 in /opt/homebrew/lib/python3.11/site-packages (from scikit-learn) (1.24.1)\r\n",
      "Requirement already satisfied: scipy>=1.3.2 in /opt/homebrew/Cellar/jupyterlab/3.4.8_1/libexec/lib/python3.11/site-packages (from scikit-learn) (1.10.1)\r\n",
      "Requirement already satisfied: joblib>=1.1.1 in /opt/homebrew/Cellar/jupyterlab/3.4.8_1/libexec/lib/python3.11/site-packages (from scikit-learn) (1.2.0)\r\n",
      "Requirement already satisfied: threadpoolctl>=2.0.0 in /opt/homebrew/Cellar/jupyterlab/3.4.8_1/libexec/lib/python3.11/site-packages (from scikit-learn) (3.1.0)\r\n",
      "\r\n",
      "\u001B[1m[\u001B[0m\u001B[34;49mnotice\u001B[0m\u001B[1;39;49m]\u001B[0m\u001B[39;49m A new release of pip available: \u001B[0m\u001B[31;49m22.3.1\u001B[0m\u001B[39;49m -> \u001B[0m\u001B[32;49m23.0.1\u001B[0m\r\n",
      "\u001B[1m[\u001B[0m\u001B[34;49mnotice\u001B[0m\u001B[1;39;49m]\u001B[0m\u001B[39;49m To update, run: \u001B[0m\u001B[32;49mpython3.11 -m pip install --upgrade pip\u001B[0m\r\n",
      "Note: you may need to restart the kernel to use updated packages.\n",
      "Requirement already satisfied: matplotlib in /opt/homebrew/Cellar/jupyterlab/3.4.8_1/libexec/lib/python3.11/site-packages (3.7.1)\r\n",
      "Requirement already satisfied: contourpy>=1.0.1 in /opt/homebrew/Cellar/jupyterlab/3.4.8_1/libexec/lib/python3.11/site-packages (from matplotlib) (1.0.7)\r\n",
      "Requirement already satisfied: cycler>=0.10 in /opt/homebrew/Cellar/jupyterlab/3.4.8_1/libexec/lib/python3.11/site-packages (from matplotlib) (0.11.0)\r\n",
      "Requirement already satisfied: fonttools>=4.22.0 in /opt/homebrew/Cellar/jupyterlab/3.4.8_1/libexec/lib/python3.11/site-packages (from matplotlib) (4.39.2)\r\n",
      "Requirement already satisfied: kiwisolver>=1.0.1 in /opt/homebrew/Cellar/jupyterlab/3.4.8_1/libexec/lib/python3.11/site-packages (from matplotlib) (1.4.4)\r\n",
      "Requirement already satisfied: numpy>=1.20 in /opt/homebrew/lib/python3.11/site-packages (from matplotlib) (1.24.1)\r\n",
      "Requirement already satisfied: packaging>=20.0 in /opt/homebrew/Cellar/jupyterlab/3.4.8_1/libexec/lib/python3.11/site-packages (from matplotlib) (21.3)\r\n",
      "Requirement already satisfied: pillow>=6.2.0 in /opt/homebrew/Cellar/jupyterlab/3.4.8_1/libexec/lib/python3.11/site-packages (from matplotlib) (9.4.0)\r\n",
      "Requirement already satisfied: pyparsing>=2.3.1 in /opt/homebrew/Cellar/jupyterlab/3.4.8_1/libexec/lib/python3.11/site-packages (from matplotlib) (3.0.9)\r\n",
      "Requirement already satisfied: python-dateutil>=2.7 in /opt/homebrew/Cellar/jupyterlab/3.4.8_1/libexec/lib/python3.11/site-packages (from matplotlib) (2.8.2)\r\n",
      "Requirement already satisfied: six>=1.5 in /opt/homebrew/opt/six/lib/python3.11/site-packages (from python-dateutil>=2.7->matplotlib) (1.16.0)\r\n",
      "\r\n",
      "\u001B[1m[\u001B[0m\u001B[34;49mnotice\u001B[0m\u001B[1;39;49m]\u001B[0m\u001B[39;49m A new release of pip available: \u001B[0m\u001B[31;49m22.3.1\u001B[0m\u001B[39;49m -> \u001B[0m\u001B[32;49m23.0.1\u001B[0m\r\n",
      "\u001B[1m[\u001B[0m\u001B[34;49mnotice\u001B[0m\u001B[1;39;49m]\u001B[0m\u001B[39;49m To update, run: \u001B[0m\u001B[32;49mpython3.11 -m pip install --upgrade pip\u001B[0m\r\n",
      "Note: you may need to restart the kernel to use updated packages.\n"
     ]
    }
   ],
   "source": [
    "%pip install scikit-learn\n",
    "%pip install matplotlib\n",
    "import numpy as np\n",
    "import sklearn as sk\n",
    "import matplotlib.pyplot as plt\n",
    "\n",
    "# Import datasets, classifiers and performance metrics\n",
    "from sklearn import datasets, svm, metrics\n",
    "from sklearn.model_selection import train_test_split"
   ],
   "metadata": {
    "collapsed": false
   }
  },
  {
   "cell_type": "code",
   "execution_count": 3,
   "outputs": [
    {
     "name": "stdout",
     "output_type": "stream",
     "text": [
      "{'data': array([[ 0.,  0.,  5., ...,  0.,  0.,  0.],\n",
      "       [ 0.,  0.,  0., ..., 10.,  0.,  0.],\n",
      "       [ 0.,  0.,  0., ..., 16.,  9.,  0.],\n",
      "       ...,\n",
      "       [ 0.,  0.,  1., ...,  6.,  0.,  0.],\n",
      "       [ 0.,  0.,  2., ..., 12.,  0.,  0.],\n",
      "       [ 0.,  0., 10., ..., 12.,  1.,  0.]]), 'target': array([0, 1, 2, ..., 8, 9, 8]), 'frame': None, 'feature_names': ['pixel_0_0', 'pixel_0_1', 'pixel_0_2', 'pixel_0_3', 'pixel_0_4', 'pixel_0_5', 'pixel_0_6', 'pixel_0_7', 'pixel_1_0', 'pixel_1_1', 'pixel_1_2', 'pixel_1_3', 'pixel_1_4', 'pixel_1_5', 'pixel_1_6', 'pixel_1_7', 'pixel_2_0', 'pixel_2_1', 'pixel_2_2', 'pixel_2_3', 'pixel_2_4', 'pixel_2_5', 'pixel_2_6', 'pixel_2_7', 'pixel_3_0', 'pixel_3_1', 'pixel_3_2', 'pixel_3_3', 'pixel_3_4', 'pixel_3_5', 'pixel_3_6', 'pixel_3_7', 'pixel_4_0', 'pixel_4_1', 'pixel_4_2', 'pixel_4_3', 'pixel_4_4', 'pixel_4_5', 'pixel_4_6', 'pixel_4_7', 'pixel_5_0', 'pixel_5_1', 'pixel_5_2', 'pixel_5_3', 'pixel_5_4', 'pixel_5_5', 'pixel_5_6', 'pixel_5_7', 'pixel_6_0', 'pixel_6_1', 'pixel_6_2', 'pixel_6_3', 'pixel_6_4', 'pixel_6_5', 'pixel_6_6', 'pixel_6_7', 'pixel_7_0', 'pixel_7_1', 'pixel_7_2', 'pixel_7_3', 'pixel_7_4', 'pixel_7_5', 'pixel_7_6', 'pixel_7_7'], 'target_names': array([0, 1, 2, 3, 4, 5, 6, 7, 8, 9]), 'images': array([[[ 0.,  0.,  5., ...,  1.,  0.,  0.],\n",
      "        [ 0.,  0., 13., ..., 15.,  5.,  0.],\n",
      "        [ 0.,  3., 15., ..., 11.,  8.,  0.],\n",
      "        ...,\n",
      "        [ 0.,  4., 11., ..., 12.,  7.,  0.],\n",
      "        [ 0.,  2., 14., ..., 12.,  0.,  0.],\n",
      "        [ 0.,  0.,  6., ...,  0.,  0.,  0.]],\n",
      "\n",
      "       [[ 0.,  0.,  0., ...,  5.,  0.,  0.],\n",
      "        [ 0.,  0.,  0., ...,  9.,  0.,  0.],\n",
      "        [ 0.,  0.,  3., ...,  6.,  0.,  0.],\n",
      "        ...,\n",
      "        [ 0.,  0.,  1., ...,  6.,  0.,  0.],\n",
      "        [ 0.,  0.,  1., ...,  6.,  0.,  0.],\n",
      "        [ 0.,  0.,  0., ..., 10.,  0.,  0.]],\n",
      "\n",
      "       [[ 0.,  0.,  0., ..., 12.,  0.,  0.],\n",
      "        [ 0.,  0.,  3., ..., 14.,  0.,  0.],\n",
      "        [ 0.,  0.,  8., ..., 16.,  0.,  0.],\n",
      "        ...,\n",
      "        [ 0.,  9., 16., ...,  0.,  0.,  0.],\n",
      "        [ 0.,  3., 13., ..., 11.,  5.,  0.],\n",
      "        [ 0.,  0.,  0., ..., 16.,  9.,  0.]],\n",
      "\n",
      "       ...,\n",
      "\n",
      "       [[ 0.,  0.,  1., ...,  1.,  0.,  0.],\n",
      "        [ 0.,  0., 13., ...,  2.,  1.,  0.],\n",
      "        [ 0.,  0., 16., ..., 16.,  5.,  0.],\n",
      "        ...,\n",
      "        [ 0.,  0., 16., ..., 15.,  0.,  0.],\n",
      "        [ 0.,  0., 15., ..., 16.,  0.,  0.],\n",
      "        [ 0.,  0.,  2., ...,  6.,  0.,  0.]],\n",
      "\n",
      "       [[ 0.,  0.,  2., ...,  0.,  0.,  0.],\n",
      "        [ 0.,  0., 14., ..., 15.,  1.,  0.],\n",
      "        [ 0.,  4., 16., ..., 16.,  7.,  0.],\n",
      "        ...,\n",
      "        [ 0.,  0.,  0., ..., 16.,  2.,  0.],\n",
      "        [ 0.,  0.,  4., ..., 16.,  2.,  0.],\n",
      "        [ 0.,  0.,  5., ..., 12.,  0.,  0.]],\n",
      "\n",
      "       [[ 0.,  0., 10., ...,  1.,  0.,  0.],\n",
      "        [ 0.,  2., 16., ...,  1.,  0.,  0.],\n",
      "        [ 0.,  0., 15., ..., 15.,  0.,  0.],\n",
      "        ...,\n",
      "        [ 0.,  4., 16., ..., 16.,  6.,  0.],\n",
      "        [ 0.,  8., 16., ..., 16.,  8.,  0.],\n",
      "        [ 0.,  1.,  8., ..., 12.,  1.,  0.]]]), 'DESCR': \".. _digits_dataset:\\n\\nOptical recognition of handwritten digits dataset\\n--------------------------------------------------\\n\\n**Data Set Characteristics:**\\n\\n    :Number of Instances: 1797\\n    :Number of Attributes: 64\\n    :Attribute Information: 8x8 image of integer pixels in the range 0..16.\\n    :Missing Attribute Values: None\\n    :Creator: E. Alpaydin (alpaydin '@' boun.edu.tr)\\n    :Date: July; 1998\\n\\nThis is a copy of the test set of the UCI ML hand-written digits datasets\\nhttps://archive.ics.uci.edu/ml/datasets/Optical+Recognition+of+Handwritten+Digits\\n\\nThe data set contains images of hand-written digits: 10 classes where\\neach class refers to a digit.\\n\\nPreprocessing programs made available by NIST were used to extract\\nnormalized bitmaps of handwritten digits from a preprinted form. From a\\ntotal of 43 people, 30 contributed to the training set and different 13\\nto the test set. 32x32 bitmaps are divided into nonoverlapping blocks of\\n4x4 and the number of on pixels are counted in each block. This generates\\nan input matrix of 8x8 where each element is an integer in the range\\n0..16. This reduces dimensionality and gives invariance to small\\ndistortions.\\n\\nFor info on NIST preprocessing routines, see M. D. Garris, J. L. Blue, G.\\nT. Candela, D. L. Dimmick, J. Geist, P. J. Grother, S. A. Janet, and C.\\nL. Wilson, NIST Form-Based Handprint Recognition System, NISTIR 5469,\\n1994.\\n\\n.. topic:: References\\n\\n  - C. Kaynak (1995) Methods of Combining Multiple Classifiers and Their\\n    Applications to Handwritten Digit Recognition, MSc Thesis, Institute of\\n    Graduate Studies in Science and Engineering, Bogazici University.\\n  - E. Alpaydin, C. Kaynak (1998) Cascading Classifiers, Kybernetika.\\n  - Ken Tang and Ponnuthurai N. Suganthan and Xi Yao and A. Kai Qin.\\n    Linear dimensionalityreduction using relevance weighted LDA. School of\\n    Electrical and Electronic Engineering Nanyang Technological University.\\n    2005.\\n  - Claudio Gentile. A New Approximate Maximal Margin Classification\\n    Algorithm. NIPS. 2000.\\n\"}\n"
     ]
    }
   ],
   "source": [
    "digits = sk.datasets.load_digits()\n",
    "print(digits)"
   ],
   "metadata": {
    "collapsed": false
   }
  },
  {
   "cell_type": "code",
   "execution_count": 4,
   "outputs": [
    {
     "name": "stdout",
     "output_type": "stream",
     "text": [
      "(1797, 64)\n",
      "64\n"
     ]
    }
   ],
   "source": [
    "print(digits.data.shape)\n",
    "print(len(digits.feature_names))"
   ],
   "metadata": {
    "collapsed": false
   }
  },
  {
   "cell_type": "code",
   "execution_count": 5,
   "outputs": [
    {
     "data": {
      "text/plain": "<Figure size 1000x300 with 4 Axes>",
      "image/png": "[encoded data removed]"
     },
     "metadata": {},
     "output_type": "display_data"
    }
   ],
   "source": [
    "_, axes = plt.subplots(nrows=1, ncols=4, figsize=(10, 3))\n",
    "for ax, image, label in zip(axes, digits.images, digits.target):\n",
    "    ax.set_axis_off()\n",
    "    ax.imshow(image, cmap=plt.cm.gray_r, interpolation=\"nearest\")\n",
    "    ax.set_title(\"Training: %i\" % label)"
   ],
   "metadata": {
    "collapsed": false
   }
  },
  {
   "cell_type": "code",
   "execution_count": 6,
   "outputs": [
    {
     "name": "stdout",
     "output_type": "stream",
     "text": [
      "1797\n",
      "(1797, 64)\n",
      "(1797,)\n",
      "(1437, 64)\n",
      "(360, 64)\n"
     ]
    }
   ],
   "source": [
    "# flatten the images\n",
    "n_samples = len(digits.images)\n",
    "print(n_samples)\n",
    "data = digits.images.reshape((n_samples, -1))\n",
    "print(data.shape)\n",
    "print(digits.target.shape)\n",
    "\n",
    "# Split data into 80% train and 20% test subsets\n",
    "X_train, X_val, y_train, y_val = train_test_split(\n",
    "    data, digits.target, test_size=0.2, shuffle=True\n",
    ")\n",
    "print(X_train.shape)\n",
    "print(X_val.shape)"
   ],
   "metadata": {
    "collapsed": false
   }
  },
  {
   "cell_type": "code",
   "execution_count": 7,
   "outputs": [],
   "source": [
    "import nn\n",
    "\n",
    "nn_arch = [{'input_dim': 64, 'output_dim': 16, 'activation': 'relu'}, {'input_dim': 16, 'output_dim': 64, 'activation': 'sigmoid'}]\n",
    "\n",
    "autoencoder = nn.NeuralNetwork(nn_arch, lr=0.05, seed=42, batch_size=100, epochs=10, loss_function='mean squared error')"
   ],
   "metadata": {
    "collapsed": false
   }
  },
  {
   "cell_type": "code",
   "execution_count": 8,
   "outputs": [
    {
     "name": "stdout",
     "output_type": "stream",
     "text": [
      "X_train dimension is  (1437, 64)\n",
      "y_train dimension is:  (1437,)\n",
      "Cache within forward method:  {'A_curr1': array([[ 0.        ,  0.        ,  3.84533034, ...,  9.98862178,\n",
      "         0.        ,  6.48216413],\n",
      "       [ 0.        ,  4.89360566,  0.        , ..., 11.41444563,\n",
      "         0.        ,  5.9526492 ],\n",
      "       [ 0.        ,  0.        ,  4.7135133 , ..., 15.8190126 ,\n",
      "         0.        ,  5.76313723],\n",
      "       ...,\n",
      "       [ 0.        ,  0.        ,  6.63913564, ...,  8.86157878,\n",
      "         0.10399762,  9.51449734],\n",
      "       [ 0.        ,  4.38517429,  0.        , ..., 13.18592688,\n",
      "         0.        ,  5.92266601],\n",
      "       [ 0.        ,  0.        ,  3.64466956, ..., 13.83475702,\n",
      "         4.15714444,  6.96891141]]), 'Z_curr1': array([[ -3.52594862,  -2.32015597,   3.84533034, ...,   9.98862178,\n",
      "         -3.52860717,   6.48216413],\n",
      "       [ -5.99374723,   4.89360566,  -5.55206914, ...,  11.41444563,\n",
      "         -4.31816369,   5.9526492 ],\n",
      "       [ -9.72009433,  -1.0822552 ,   4.7135133 , ...,  15.8190126 ,\n",
      "         -3.28547145,   5.76313723],\n",
      "       ...,\n",
      "       [ -7.40053922,  -7.04684183,   6.63913564, ...,   8.86157878,\n",
      "          0.10399762,   9.51449734],\n",
      "       [ -8.81761311,   4.38517429,  -4.03634606, ...,  13.18592688,\n",
      "         -1.11738649,   5.92266601],\n",
      "       [-10.53047403,  -4.87897315,   3.64466956, ...,  13.83475702,\n",
      "          4.15714444,   6.96891141]])}\n",
      "Cache within forward method:  {'A_curr1': array([[ 0.        ,  0.        ,  3.84533034, ...,  9.98862178,\n",
      "         0.        ,  6.48216413],\n",
      "       [ 0.        ,  4.89360566,  0.        , ..., 11.41444563,\n",
      "         0.        ,  5.9526492 ],\n",
      "       [ 0.        ,  0.        ,  4.7135133 , ..., 15.8190126 ,\n",
      "         0.        ,  5.76313723],\n",
      "       ...,\n",
      "       [ 0.        ,  0.        ,  6.63913564, ...,  8.86157878,\n",
      "         0.10399762,  9.51449734],\n",
      "       [ 0.        ,  4.38517429,  0.        , ..., 13.18592688,\n",
      "         0.        ,  5.92266601],\n",
      "       [ 0.        ,  0.        ,  3.64466956, ..., 13.83475702,\n",
      "         4.15714444,  6.96891141]]), 'Z_curr1': array([[ -3.52594862,  -2.32015597,   3.84533034, ...,   9.98862178,\n",
      "         -3.52860717,   6.48216413],\n",
      "       [ -5.99374723,   4.89360566,  -5.55206914, ...,  11.41444563,\n",
      "         -4.31816369,   5.9526492 ],\n",
      "       [ -9.72009433,  -1.0822552 ,   4.7135133 , ...,  15.8190126 ,\n",
      "         -3.28547145,   5.76313723],\n",
      "       ...,\n",
      "       [ -7.40053922,  -7.04684183,   6.63913564, ...,   8.86157878,\n",
      "          0.10399762,   9.51449734],\n",
      "       [ -8.81761311,   4.38517429,  -4.03634606, ...,  13.18592688,\n",
      "         -1.11738649,   5.92266601],\n",
      "       [-10.53047403,  -4.87897315,   3.64466956, ...,  13.83475702,\n",
      "          4.15714444,   6.96891141]]), 'A_curr2': array([[1, 1, 1, ..., 0, 1, 0],\n",
      "       [1, 1, 0, ..., 0, 1, 0],\n",
      "       [1, 1, 1, ..., 1, 1, 0],\n",
      "       ...,\n",
      "       [1, 1, 1, ..., 0, 1, 0],\n",
      "       [1, 0, 0, ..., 0, 1, 0],\n",
      "       [1, 1, 1, ..., 0, 1, 0]]), 'Z_curr2': array([[ 0.92786533,  1.79422838,  1.58657535, ..., -0.09694695,\n",
      "         2.62195093, -0.73584489],\n",
      "       [ 1.00336827,  1.17135722, -0.74406339, ..., -3.27887667,\n",
      "         3.29535519, -1.43013103],\n",
      "       [ 1.90415648,  1.51660562,  2.94053293, ...,  0.80869527,\n",
      "         1.74990858, -0.77618565],\n",
      "       ...,\n",
      "       [ 0.78012767,  1.63377125,  1.63993852, ..., -0.80362328,\n",
      "         3.53968538, -1.06437742],\n",
      "       [ 1.23679989, -0.89812156, -1.57970506, ..., -3.03786553,\n",
      "         4.52471985, -0.02488321],\n",
      "       [ 0.57133865,  0.74840509,  1.35141951, ..., -1.25160054,\n",
      "         3.94323481, -0.82057166]])}\n",
      "Cache outside forward method loop:  {'A_curr1': array([[ 0.        ,  0.        ,  3.84533034, ...,  9.98862178,\n",
      "         0.        ,  6.48216413],\n",
      "       [ 0.        ,  4.89360566,  0.        , ..., 11.41444563,\n",
      "         0.        ,  5.9526492 ],\n",
      "       [ 0.        ,  0.        ,  4.7135133 , ..., 15.8190126 ,\n",
      "         0.        ,  5.76313723],\n",
      "       ...,\n",
      "       [ 0.        ,  0.        ,  6.63913564, ...,  8.86157878,\n",
      "         0.10399762,  9.51449734],\n",
      "       [ 0.        ,  4.38517429,  0.        , ..., 13.18592688,\n",
      "         0.        ,  5.92266601],\n",
      "       [ 0.        ,  0.        ,  3.64466956, ..., 13.83475702,\n",
      "         4.15714444,  6.96891141]]), 'Z_curr1': array([[ -3.52594862,  -2.32015597,   3.84533034, ...,   9.98862178,\n",
      "         -3.52860717,   6.48216413],\n",
      "       [ -5.99374723,   4.89360566,  -5.55206914, ...,  11.41444563,\n",
      "         -4.31816369,   5.9526492 ],\n",
      "       [ -9.72009433,  -1.0822552 ,   4.7135133 , ...,  15.8190126 ,\n",
      "         -3.28547145,   5.76313723],\n",
      "       ...,\n",
      "       [ -7.40053922,  -7.04684183,   6.63913564, ...,   8.86157878,\n",
      "          0.10399762,   9.51449734],\n",
      "       [ -8.81761311,   4.38517429,  -4.03634606, ...,  13.18592688,\n",
      "         -1.11738649,   5.92266601],\n",
      "       [-10.53047403,  -4.87897315,   3.64466956, ...,  13.83475702,\n",
      "          4.15714444,   6.96891141]]), 'A_curr2': array([[1, 1, 1, ..., 0, 1, 0],\n",
      "       [1, 1, 0, ..., 0, 1, 0],\n",
      "       [1, 1, 1, ..., 1, 1, 0],\n",
      "       ...,\n",
      "       [1, 1, 1, ..., 0, 1, 0],\n",
      "       [1, 0, 0, ..., 0, 1, 0],\n",
      "       [1, 1, 1, ..., 0, 1, 0]]), 'Z_curr2': array([[ 0.92786533,  1.79422838,  1.58657535, ..., -0.09694695,\n",
      "         2.62195093, -0.73584489],\n",
      "       [ 1.00336827,  1.17135722, -0.74406339, ..., -3.27887667,\n",
      "         3.29535519, -1.43013103],\n",
      "       [ 1.90415648,  1.51660562,  2.94053293, ...,  0.80869527,\n",
      "         1.74990858, -0.77618565],\n",
      "       ...,\n",
      "       [ 0.78012767,  1.63377125,  1.63993852, ..., -0.80362328,\n",
      "         3.53968538, -1.06437742],\n",
      "       [ 1.23679989, -0.89812156, -1.57970506, ..., -3.03786553,\n",
      "         4.52471985, -0.02488321],\n",
      "       [ 0.57133865,  0.74840509,  1.35141951, ..., -1.25160054,\n",
      "         3.94323481, -0.82057166]])}\n",
      "Cache in predict method:  {'A_curr1': array([[ 0.        ,  0.        ,  3.84533034, ...,  9.98862178,\n",
      "         0.        ,  6.48216413],\n",
      "       [ 0.        ,  4.89360566,  0.        , ..., 11.41444563,\n",
      "         0.        ,  5.9526492 ],\n",
      "       [ 0.        ,  0.        ,  4.7135133 , ..., 15.8190126 ,\n",
      "         0.        ,  5.76313723],\n",
      "       ...,\n",
      "       [ 0.        ,  0.        ,  6.63913564, ...,  8.86157878,\n",
      "         0.10399762,  9.51449734],\n",
      "       [ 0.        ,  4.38517429,  0.        , ..., 13.18592688,\n",
      "         0.        ,  5.92266601],\n",
      "       [ 0.        ,  0.        ,  3.64466956, ..., 13.83475702,\n",
      "         4.15714444,  6.96891141]]), 'Z_curr1': array([[ -3.52594862,  -2.32015597,   3.84533034, ...,   9.98862178,\n",
      "         -3.52860717,   6.48216413],\n",
      "       [ -5.99374723,   4.89360566,  -5.55206914, ...,  11.41444563,\n",
      "         -4.31816369,   5.9526492 ],\n",
      "       [ -9.72009433,  -1.0822552 ,   4.7135133 , ...,  15.8190126 ,\n",
      "         -3.28547145,   5.76313723],\n",
      "       ...,\n",
      "       [ -7.40053922,  -7.04684183,   6.63913564, ...,   8.86157878,\n",
      "          0.10399762,   9.51449734],\n",
      "       [ -8.81761311,   4.38517429,  -4.03634606, ...,  13.18592688,\n",
      "         -1.11738649,   5.92266601],\n",
      "       [-10.53047403,  -4.87897315,   3.64466956, ...,  13.83475702,\n",
      "          4.15714444,   6.96891141]]), 'A_curr2': array([[1, 1, 1, ..., 0, 1, 0],\n",
      "       [1, 1, 0, ..., 0, 1, 0],\n",
      "       [1, 1, 1, ..., 1, 1, 0],\n",
      "       ...,\n",
      "       [1, 1, 1, ..., 0, 1, 0],\n",
      "       [1, 0, 0, ..., 0, 1, 0],\n",
      "       [1, 1, 1, ..., 0, 1, 0]]), 'Z_curr2': array([[ 0.92786533,  1.79422838,  1.58657535, ..., -0.09694695,\n",
      "         2.62195093, -0.73584489],\n",
      "       [ 1.00336827,  1.17135722, -0.74406339, ..., -3.27887667,\n",
      "         3.29535519, -1.43013103],\n",
      "       [ 1.90415648,  1.51660562,  2.94053293, ...,  0.80869527,\n",
      "         1.74990858, -0.77618565],\n",
      "       ...,\n",
      "       [ 0.78012767,  1.63377125,  1.63993852, ..., -0.80362328,\n",
      "         3.53968538, -1.06437742],\n",
      "       [ 1.23679989, -0.89812156, -1.57970506, ..., -3.03786553,\n",
      "         4.52471985, -0.02488321],\n",
      "       [ 0.57133865,  0.74840509,  1.35141951, ..., -1.25160054,\n",
      "         3.94323481, -0.82057166]])}\n",
      "[]\n",
      "[7. 6. 7. 4. 3. 5. 0. 3. 7. 0. 4. 4. 4. 0. 6. 2. 4. 8. 2. 9. 6. 1. 1. 5.\n",
      " 8. 2. 4. 6. 4. 6. 1. 7. 9. 1. 4. 2. 4. 1. 3. 1. 1. 3. 6. 2. 5. 8. 7. 6.\n",
      " 7. 9. 6. 7. 3. 5. 6. 6. 3. 3. 7. 6. 2. 8. 2. 9. 9. 3. 9. 3. 0. 1. 2. 3.\n",
      " 9. 0. 6. 1. 2. 8. 0. 5. 4. 8. 1. 3. 2. 4. 6. 9. 4. 4. 8. 2. 1. 3. 6. 8.]\n",
      "[]\n"
     ]
    },
    {
     "ename": "ValueError",
     "evalue": "operands could not be broadcast together with shapes (96,) (0,) ",
     "output_type": "error",
     "traceback": [
      "\u001B[0;31m---------------------------------------------------------------------------\u001B[0m",
      "\u001B[0;31mValueError\u001B[0m                                Traceback (most recent call last)",
      "Cell \u001B[0;32mIn[8], line 1\u001B[0m\n\u001B[0;32m----> 1\u001B[0m \u001B[43mautoencoder\u001B[49m\u001B[38;5;241;43m.\u001B[39;49m\u001B[43mfit\u001B[49m\u001B[43m(\u001B[49m\u001B[43mX_train\u001B[49m\u001B[43m,\u001B[49m\u001B[43m \u001B[49m\u001B[43my_train\u001B[49m\u001B[43m,\u001B[49m\u001B[43m \u001B[49m\u001B[43mX_val\u001B[49m\u001B[43m,\u001B[49m\u001B[43m \u001B[49m\u001B[43my_val\u001B[49m\u001B[43m)\u001B[49m\n",
      "File \u001B[0;32m~/Documents/Winter_2023/BMI_203/final-nn/nn/nn.py:383\u001B[0m, in \u001B[0;36mNeuralNetwork.fit\u001B[0;34m(self, X_train, y_train, X_val, y_val)\u001B[0m\n\u001B[1;32m    381\u001B[0m     train_loss \u001B[38;5;241m=\u001B[39m \u001B[38;5;28mself\u001B[39m\u001B[38;5;241m.\u001B[39m_binary_cross_entropy(y_train, y_hat)\n\u001B[1;32m    382\u001B[0m \u001B[38;5;28;01melif\u001B[39;00m \u001B[38;5;124m'\u001B[39m\u001B[38;5;124mmean squared error\u001B[39m\u001B[38;5;124m'\u001B[39m \u001B[38;5;129;01min\u001B[39;00m \u001B[38;5;28mself\u001B[39m\u001B[38;5;241m.\u001B[39m_loss_func:\n\u001B[0;32m--> 383\u001B[0m     train_loss \u001B[38;5;241m=\u001B[39m \u001B[38;5;28;43mself\u001B[39;49m\u001B[38;5;241;43m.\u001B[39;49m\u001B[43m_mean_squared_error\u001B[49m\u001B[43m(\u001B[49m\u001B[43my_train\u001B[49m\u001B[43m,\u001B[49m\u001B[43m \u001B[49m\u001B[43my_hat\u001B[49m\u001B[43m)\u001B[49m\n\u001B[1;32m    384\u001B[0m \u001B[38;5;28;01melse\u001B[39;00m:\n\u001B[1;32m    385\u001B[0m     \u001B[38;5;28;01mraise\u001B[39;00m \u001B[38;5;167;01mException\u001B[39;00m(\u001B[38;5;124m'\u001B[39m\u001B[38;5;124mChoose loss function binary cross entropy or mean squared error\u001B[39m\u001B[38;5;124m'\u001B[39m)\n",
      "File \u001B[0;32m~/Documents/Winter_2023/BMI_203/final-nn/nn/nn.py:567\u001B[0m, in \u001B[0;36mNeuralNetwork._mean_squared_error\u001B[0;34m(self, y, y_hat)\u001B[0m\n\u001B[1;32m    565\u001B[0m \u001B[38;5;28mprint\u001B[39m(y)\n\u001B[1;32m    566\u001B[0m \u001B[38;5;28mprint\u001B[39m(y_hat)\n\u001B[0;32m--> 567\u001B[0m d1 \u001B[38;5;241m=\u001B[39m \u001B[43my\u001B[49m\u001B[43m \u001B[49m\u001B[38;5;241;43m-\u001B[39;49m\u001B[43m \u001B[49m\u001B[43my_hat\u001B[49m\n\u001B[1;32m    568\u001B[0m mse \u001B[38;5;241m=\u001B[39m (\u001B[38;5;241m1\u001B[39m\u001B[38;5;241m/\u001B[39m\u001B[38;5;28mint\u001B[39m(\u001B[38;5;28mlen\u001B[39m(y))\u001B[38;5;241m*\u001B[39md1\u001B[38;5;241m.\u001B[39mdot(d1))\n\u001B[1;32m    569\u001B[0m \u001B[38;5;28;01mreturn\u001B[39;00m np\u001B[38;5;241m.\u001B[39mmean(np\u001B[38;5;241m.\u001B[39msquare(y \u001B[38;5;241m-\u001B[39m y_hat))\n",
      "\u001B[0;31mValueError\u001B[0m: operands could not be broadcast together with shapes (96,) (0,) "
     ]
    }
   ],
   "source": [
    "autoencoder.fit(X_train, y_train, X_val, y_val)"
   ],
   "metadata": {
    "collapsed": false
   }
  },
  {
   "cell_type": "code",
   "execution_count": null,
   "outputs": [],
   "source": [],
   "metadata": {
    "collapsed": false
   }
  }
 ],
 "metadata": {
  "kernelspec": {
   "display_name": "Python 3",
   "language": "python",
   "name": "python3"
  },
  "language_info": {
   "codemirror_mode": {
    "name": "ipython",
    "version": 2
   },
   "file_extension": ".py",
   "mimetype": "text/x-python",
   "name": "python",
   "nbconvert_exporter": "python",
   "pygments_lexer": "ipython2",
   "version": "2.7.6"
  }
 },
 "nbformat": 4,
 "nbformat_minor": 0
}
